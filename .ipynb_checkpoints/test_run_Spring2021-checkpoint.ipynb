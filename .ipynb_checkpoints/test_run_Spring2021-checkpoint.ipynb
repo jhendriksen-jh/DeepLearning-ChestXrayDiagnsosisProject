{
 "cells": [
  {
   "cell_type": "code",
   "execution_count": 1,
   "metadata": {},
   "outputs": [
    {
     "name": "stdout",
     "output_type": "stream",
     "text": [
      "Python Version:  3.8.5 (default, Sep  3 2020, 21:29:08) [MSC v.1916 64 bit (AMD64)]\n",
      "PyTorch Version:  1.8.0+cu111\n",
      "Torchvision Version:  0.9.0+cu111\n"
     ]
    }
   ],
   "source": [
    "import torch\n",
    "import torchvision\n",
    "import sys\n",
    "import torch.nn.functional as TF\n",
    "\n",
    "print(\"Python Version: \", sys.version)\n",
    "print(\"PyTorch Version: \",torch.__version__)\n",
    "print(\"Torchvision Version: \",torchvision.__version__)"
   ]
  },
  {
   "cell_type": "code",
   "execution_count": 2,
   "metadata": {},
   "outputs": [
    {
     "name": "stdout",
     "output_type": "stream",
     "text": [
      "Number of avalaible GPUs:  1\n",
      "GPU's name:  GeForce GTX 1070\n",
      "##### Hooray! You have successfully installed and configured pytorch for jupyter notebook! #####\n"
     ]
    }
   ],
   "source": [
    "isGPU = torch.cuda.is_available()\n",
    "if not isGPU:\n",
    "    print(\"There is no GPU setup for this pytorch version. Please reinstall different pytorch version!\")\n",
    "else:\n",
    "    print(\"Number of avalaible GPUs: \", torch.cuda.device_count())\n",
    "    print(\"GPU's name: \", torch.cuda.get_device_name(0))\n",
    "    print(\"##### Hooray! You have successfully installed and configured pytorch for jupyter notebook! #####\")"
   ]
  },
  {
   "cell_type": "code",
   "execution_count": 3,
   "metadata": {},
   "outputs": [
    {
     "name": "stdout",
     "output_type": "stream",
     "text": [
      "|===========================================================================|\n",
      "|                  PyTorch CUDA memory summary, device ID 0                 |\n",
      "|---------------------------------------------------------------------------|\n",
      "|            CUDA OOMs: 0            |        cudaMalloc retries: 0         |\n",
      "|===========================================================================|\n",
      "|        Metric         | Cur Usage  | Peak Usage | Tot Alloc  | Tot Freed  |\n",
      "|---------------------------------------------------------------------------|\n",
      "| Allocated memory      |    1536 B  |    2048 B  |    2048 B  |     512 B  |\n",
      "|       from large pool |       0 B  |       0 B  |       0 B  |       0 B  |\n",
      "|       from small pool |    1536 B  |    2048 B  |    2048 B  |     512 B  |\n",
      "|---------------------------------------------------------------------------|\n",
      "| Active memory         |    1536 B  |    2048 B  |    2048 B  |     512 B  |\n",
      "|       from large pool |       0 B  |       0 B  |       0 B  |       0 B  |\n",
      "|       from small pool |    1536 B  |    2048 B  |    2048 B  |     512 B  |\n",
      "|---------------------------------------------------------------------------|\n",
      "| GPU reserved memory   |    2048 KB |    2048 KB |    2048 KB |       0 B  |\n",
      "|       from large pool |       0 KB |       0 KB |       0 KB |       0 B  |\n",
      "|       from small pool |    2048 KB |    2048 KB |    2048 KB |       0 B  |\n",
      "|---------------------------------------------------------------------------|\n",
      "| Non-releasable memory |    2046 KB |    2047 KB |    2048 KB |    1536 B  |\n",
      "|       from large pool |       0 KB |       0 KB |       0 KB |       0 B  |\n",
      "|       from small pool |    2046 KB |    2047 KB |    2048 KB |    1536 B  |\n",
      "|---------------------------------------------------------------------------|\n",
      "| Allocations           |       3    |       4    |       4    |       1    |\n",
      "|       from large pool |       0    |       0    |       0    |       0    |\n",
      "|       from small pool |       3    |       4    |       4    |       1    |\n",
      "|---------------------------------------------------------------------------|\n",
      "| Active allocs         |       3    |       4    |       4    |       1    |\n",
      "|       from large pool |       0    |       0    |       0    |       0    |\n",
      "|       from small pool |       3    |       4    |       4    |       1    |\n",
      "|---------------------------------------------------------------------------|\n",
      "| GPU reserved segments |       1    |       1    |       1    |       0    |\n",
      "|       from large pool |       0    |       0    |       0    |       0    |\n",
      "|       from small pool |       1    |       1    |       1    |       0    |\n",
      "|---------------------------------------------------------------------------|\n",
      "| Non-releasable allocs |       2    |       2    |       2    |       0    |\n",
      "|       from large pool |       0    |       0    |       0    |       0    |\n",
      "|       from small pool |       2    |       2    |       2    |       0    |\n",
      "|===========================================================================|\n",
      "\n"
     ]
    }
   ],
   "source": [
    "##### This cell verifies tensor computation on GPU #####\n",
    "##### If the Allocated memory in \"Cur Usage\" block has value larger than 0,\n",
    "##### then the tensors are correctly allocated and computed on GPU.\n",
    "w = torch.ones(10,3).type(torch.FloatTensor).cuda()\n",
    "x = torch.rand(3,5).type(torch.FloatTensor).cuda()\n",
    "y = torch.sigmoid( torch.matmul(w,x) )\n",
    "print(torch.cuda.memory_summary(torch.cuda.current_device()))"
   ]
  }
 ],
 "metadata": {
  "kernelspec": {
   "display_name": "Python 3",
   "language": "python",
   "name": "python3"
  },
  "language_info": {
   "codemirror_mode": {
    "name": "ipython",
    "version": 3
   },
   "file_extension": ".py",
   "mimetype": "text/x-python",
   "name": "python",
   "nbconvert_exporter": "python",
   "pygments_lexer": "ipython3",
   "version": "3.8.5"
  }
 },
 "nbformat": 4,
 "nbformat_minor": 2
}
