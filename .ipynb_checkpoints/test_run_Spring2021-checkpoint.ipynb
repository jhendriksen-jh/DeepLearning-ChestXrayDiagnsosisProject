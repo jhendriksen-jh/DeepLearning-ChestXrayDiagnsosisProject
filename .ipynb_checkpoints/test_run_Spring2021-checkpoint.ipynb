{
 "cells": [
  {
   "cell_type": "code",
   "execution_count": 1,
   "metadata": {},
   "outputs": [
    {
     "name": "stdout",
     "output_type": "stream",
     "text": [
      "Python Version:  3.8.3 (default, Jul  2 2020, 17:30:36) [MSC v.1916 64 bit (AMD64)]\n",
      "PyTorch Version:  1.8.0+cpu\n",
      "Torchvision Version:  0.9.0+cpu\n"
     ]
    }
   ],
   "source": [
    "import torch\n",
    "import torchvision\n",
    "import sys\n",
    "import torch.nn.functional as TF\n",
    "\n",
    "print(\"Python Version: \", sys.version)\n",
    "print(\"PyTorch Version: \",torch.__version__)\n",
    "print(\"Torchvision Version: \",torchvision.__version__)"
   ]
  },
  {
   "cell_type": "code",
   "execution_count": 2,
   "metadata": {},
   "outputs": [
    {
     "name": "stdout",
     "output_type": "stream",
     "text": [
      "There is no GPU setup for this pytorch version. Please reinstall different pytorch version!\n"
     ]
    }
   ],
   "source": [
    "isGPU = torch.cuda.is_available()\n",
    "if not isGPU:\n",
    "    print(\"There is no GPU setup for this pytorch version. Please reinstall different pytorch version!\")\n",
    "else:\n",
    "    print(\"Number of avalaible GPUs: \", torch.cuda.device_count())\n",
    "    print(\"GPU's name: \", torch.cuda.get_device_name(0))\n",
    "    print(\"##### Hooray! You have successfully installed and configured pytorch for jupyter notebook! #####\")"
   ]
  },
  {
   "cell_type": "code",
   "execution_count": null,
   "metadata": {},
   "outputs": [],
   "source": [
    "##### This cell verifies tensor computation on GPU #####\n",
    "##### If the Allocated memory in \"Cur Usage\" block has value larger than 0,\n",
    "##### then the tensors are correctly allocated and computed on GPU.\n",
    "w = torch.ones(10,3).type(torch.FloatTensor).cuda()\n",
    "x = torch.rand(3,5).type(torch.FloatTensor).cuda()\n",
    "y = torch.sigmoid( torch.matmul(w,x) )\n",
    "print(torch.cuda.memory_summary(torch.cuda.current_device()))"
   ]
  }
 ],
 "metadata": {
  "kernelspec": {
   "display_name": "Python 3",
   "language": "python",
   "name": "python3"
  },
  "language_info": {
   "codemirror_mode": {
    "name": "ipython",
    "version": 3
   },
   "file_extension": ".py",
   "mimetype": "text/x-python",
   "name": "python",
   "nbconvert_exporter": "python",
   "pygments_lexer": "ipython3",
   "version": "3.8.3"
  }
 },
 "nbformat": 4,
 "nbformat_minor": 2
}
