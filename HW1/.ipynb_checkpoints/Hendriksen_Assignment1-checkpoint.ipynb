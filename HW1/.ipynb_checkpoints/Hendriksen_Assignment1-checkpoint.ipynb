{
 "cells": [
  {
   "cell_type": "markdown",
   "metadata": {},
   "source": [
    "# Assignment 1 (100 points)\n",
    "\n",
    "You are expected to complete this notebook with lines of code, plots, texts, and/or equations. In this assignment, you will encounter three kinds of questions:\n",
    "- Coding questions (mark with red letter <font color='red'>**C**</font>) - this type of question requires you to provide an implementation of a certain task.\n",
    "- Theoretical questions (mark with magneta letter <font color='magneta'>**T**</font>) - this type of question requires you to provide an answer with text or mathematical equations. When an equation is asked, you can write it in python/numpy syntax (using \\`\\`) or in latex syntax (using \\$\\$).\n",
    "- Analysis questions (mark with blue letter <font color='blue'>**A**</font>) - this type of question requires an analysis of results that may include text, code and visualizations. The first questions of this type will be more explicit of what you should write. They will become more open-ended as the assignment goes on.\n",
    "\n",
    "For assignment submission, you will submit this notebook file (.ipynb) through Canvas with cells executed and outputs visible. Your submitted notebook needs to follow these guidelines:\n",
    "\n",
    "- No other packages than the ones already imported can be used.\n",
    "- No other data than the ones provided should be used.\n",
    "- The cell outputs present in your delivered notebook should be reproducible.\n",
    "- Existing cells that require your input with **code** will be marked with comments `##your code starts here` and `##your code ends here` to specify where you need to write code.\n",
    "- Your final delivery should **NOT** contain any additional modifications outside of the demarcations defined above. However, if needed for testing, please feel free to modify it and remember to reverse to its original state before you submit it.\n",
    "- All code must be your own work. Code cannot be copied from external sources or another students. You may copy code from cells that were pre-defined in this notebook if you think it is useful for use in another question.\n",
    "- All images must be generated from data generated in your code. Do **NOT** import/display images that are generated outside your code.\n",
    "- Your analysis must be your own, but if you quote text or equations from another source please make sure to cite the appropriate references.\n",
    "\n",
    "Other notes:\n",
    "- Cells should be run in order, using Shift+Enter.\n",
    "- Read all the provided code cells and comments, as they contain variables and information that you may need to use to complete the notebook.\n",
    "- Ends of questions are marked with **END**. \n",
    "- To create a text cell, create it with the \"+\" button and change its type from \"Code\" to \"Markdown\" using the upper menu. \n",
    "- To modify a text cell, double click on it.\n",
    "- If you are interested, you can check detail on formatting markdown text here: https://medium.com/ibm-data-science-experience/markdown-for-jupyter-notebooks-cheatsheet-386c05aeebed\n",
    "- A python/numpy/matplotlib tutorial that you might find useful: http://cs231n.github.io/python-numpy-tutorial/"
   ]
  },
  {
   "cell_type": "markdown",
   "metadata": {},
   "source": [
    "# Ex. 0 - Setting up libraries and useful functions **(Total of 0 points)**"
   ]
  },
  {
   "cell_type": "code",
   "execution_count": 1,
   "metadata": {
    "scrolled": true
   },
   "outputs": [
    {
     "data": {
      "text/plain": [
       "{'divide': 'raise', 'over': 'raise', 'under': 'raise', 'invalid': 'raise'}"
      ]
     },
     "execution_count": 1,
     "metadata": {},
     "output_type": "execute_result"
    }
   ],
   "source": [
    "#install a few libraries that will be used\n",
    "# !pip3 install matplotlib\n",
    "# !pip3 install numpy\n",
    "# !pip3 install pandas\n",
    "# !pip3 install python-mnist\n",
    "\n",
    "#import a few libraries. Numpy is named as np and pyplot in matplotlib as plt\n",
    "import urllib.request\n",
    "import pandas\n",
    "import numpy as np\n",
    "import matplotlib.pyplot as plt\n",
    "import copy\n",
    "from utils import *\n",
    "\n",
    "#needed to plot plots with matplotlib in OSX\n",
    "%matplotlib inline\n",
    "\n",
    "#set numpy to raise exceptions when encountering numerical errors\n",
    "np.seterr(all='raise')"
   ]
  },
  {
   "cell_type": "code",
   "execution_count": 2,
   "metadata": {},
   "outputs": [],
   "source": [
    "#this function is used to convert from integer encoding of labels to one hot encoding\n",
    "# labels is an 1-D array with the integer labels from 0 to n_labels. \n",
    "def one_hot(labels, n_labels):\n",
    "    return np.squeeze(np.eye(n_labels)[labels.reshape(-1)])\n",
    "\n",
    "#Does the transpose of the last two axes of a tensor\n",
    "def T(input_tensor):\n",
    "    return np.swapaxes(input_tensor, -1, -2)"
   ]
  },
  {
   "cell_type": "markdown",
   "metadata": {},
   "source": [
    "# Exercise 1 - Analyzing model capacity with a polynomial toy example **(Total of 30 points)**\n",
    "\n",
    "This exercise will illustrate how validation error of a model evolves by changing model capacity. We are going to start with a simple example that follows a third degree polynomial."
   ]
  },
  {
   "cell_type": "markdown",
   "metadata": {},
   "source": [
    "## <font color='red'>Exercise 1.1(C)</font> (2 points)\n",
    "\n",
    "In this section, you will implement a function, named `third_degree_polynomial`, that returns the output of a third degree polynomial. This function receives two numpy arrays, `x` and `coeffs`. If `coeffs` $= [a_0, a_1, a_2, a_3]$, the function should return an output array `y` in which $y_i = a_3\\times x_i^3 + a_2\\times x_i^2 + a_1\\times x_i + a_0$ for $i$ sample. Note: the output array, `y`, should have shape of [N, 1] where N is the number of samples in `x`."
   ]
  },
  {
   "cell_type": "code",
   "execution_count": 3,
   "metadata": {},
   "outputs": [],
   "source": [
    "def third_degree_polynomial(x, coeffs):\n",
    "    ##your code starts here\n",
    "    y = np.zeros([len(x),1]);\n",
    "    for k in range(0,len(x)):\n",
    "        y[k] = coeffs[3]*x[k]**3 + coeffs[2]*x[k]**2 + coeffs[1]*x[k] + coeffs[0]\n",
    "    return y\n",
    "    ##your code ends here"
   ]
  },
  {
   "cell_type": "code",
   "execution_count": 4,
   "metadata": {
    "scrolled": true
   },
   "outputs": [
    {
     "name": "stdout",
     "output_type": "stream",
     "text": [
      "Your third_degree_polynomial function seems to be returning the expected values\n"
     ]
    }
   ],
   "source": [
    "#test your function to make sure it is doing what is expected\n",
    "validate_ex11(third_degree_polynomial)"
   ]
  },
  {
   "cell_type": "markdown",
   "metadata": {},
   "source": [
    "**END 1.1(C)**"
   ]
  },
  {
   "cell_type": "markdown",
   "metadata": {},
   "source": [
    "We are going to set up data for Exercise 1.2-1.6 and 2. Please pay close attention to the names of the variables because you are going to need to use them in your code."
   ]
  },
  {
   "cell_type": "code",
   "execution_count": 5,
   "metadata": {
    "scrolled": false
   },
   "outputs": [],
   "source": [
    "#Generating input data and target data for this exercise\n",
    "#noise is added to data to make the fitting inexact\n",
    "\n",
    "#coefficients of the third degree polynomial used to generate the data\n",
    "coeffs_ex1 = np.array([[3.2,-1,5,-2.2]]).T\n",
    "\n",
    "#Training data input (you are going to use for exercises 1 and 2)\n",
    "x_ex1_train = np.expand_dims(np.arange(0,2,0.1), axis = 1)\n",
    "x_ex1_val = np.expand_dims(np.arange(0,2,0.1), axis = 1)\n",
    "\n",
    "\n",
    "#Target data\n",
    "y_ex1_train = third_degree_polynomial(x_ex1_train, coeffs_ex1)\n",
    "y_ex1_val = third_degree_polynomial(x_ex1_val,coeffs_ex1) \n",
    "\n",
    "#add noise to target data\n",
    "np.random.seed(1)\n",
    "epsilon_ex1 = 0.35\n",
    "y_ex1_train = y_ex1_train + epsilon_ex1 * np.random.normal(size = x_ex1_train.shape)\n",
    "y_ex1_val = y_ex1_val + epsilon_ex1 * np.random.normal(size = x_ex1_val.shape)"
   ]
  },
  {
   "cell_type": "markdown",
   "metadata": {},
   "source": [
    "## <font color='red'>Exercise 1.2(C)</font> (5 points)\n",
    "To fit polynomial functions to the data that we just generated, your task is to implement a polynomial least square fitting function, named `fit_func`, that receives 3 inputs (input array, target array, and the degree of the polynomial fitting function) and returns the coeffficients array (of shape [degree+1, 1]) of the polynomial fitting function. Moreover, a polynomial fitting function can be expressed in a closed-form solution. Hence, your `fit_func` needs to be implemented with the closed-form solution."
   ]
  },
  {
   "cell_type": "code",
   "execution_count": 6,
   "metadata": {},
   "outputs": [],
   "source": [
    "def fit_func(inputs, targets, degree):\n",
    "    ##your code starts here\n",
    "    x = np.ones([len(inputs),1])\n",
    "    x = np.append(x,x*inputs,1)\n",
    "    for d in range(2,degree+1):\n",
    "        newCol = np.reshape(x[:,1]**d,[len(inputs),1])\n",
    "        x = np.append(x,newCol,1)\n",
    "    A = np.linalg.inv(x.T@x)\n",
    "    D = A@x.T\n",
    "    w = D@targets\n",
    "    return w\n",
    "    ##your code ends here"
   ]
  },
  {
   "cell_type": "markdown",
   "metadata": {},
   "source": [
    "**END 1.2(C)**"
   ]
  },
  {
   "cell_type": "code",
   "execution_count": 7,
   "metadata": {},
   "outputs": [
    {
     "name": "stdout",
     "output_type": "stream",
     "text": [
      "Your fitting function seems to be returning the expected values\n"
     ]
    }
   ],
   "source": [
    "#test your function to make sure it is doing what is expected\n",
    "validate_ex12(fit_func, x_ex1_train, y_ex1_train)"
   ]
  },
  {
   "cell_type": "markdown",
   "metadata": {},
   "source": [
    "## <font color='red'>Exercise 1.3(C)</font> (4 points)\n",
    "In exercise 1.1 above, we implement a third degree polynominal function. Now, we will generalize it to express the polynomial function of any degrees. In this section, you need to implement a function, named `any_degree_polynomial`, that receives two numpy arrays, `x` and `coeffs`, and computes the polynomial function value for each sample in `x`. For example, if `coeffs` $= [a_0,a_1,...,a_n]$, the function should return the value of $i$ sample as $y_i = a_n\\times x_i^n + a_{n-1}\\times x_i^{n-1} + ... + a_1\\times x_i + a_0$. Note: the output array, `y`, should have shape of [N, 1] where N is the number of samples in `x`."
   ]
  },
  {
   "cell_type": "code",
   "execution_count": 8,
   "metadata": {},
   "outputs": [],
   "source": [
    "def any_degree_polynomial(x, constants_vector):\n",
    "    ##your code starts here\n",
    "    y = np.zeros([len(x),1]);\n",
    "    degree = len(constants_vector)\n",
    "    newX = np.zeros([len(x),1])\n",
    "    for d in range(1,degree):\n",
    "        newCol = constants_vector[d]*(x[:]**d)\n",
    "        newX = np.append(newX,newCol,1)\n",
    "    newX = np.append(newX,np.ones([len(x),1])*constants_vector[0],1)\n",
    "    y = np.reshape(np.sum(newX,axis = 1),[len(x),1])\n",
    "    return y\n",
    "    ##your code ends here"
   ]
  },
  {
   "cell_type": "markdown",
   "metadata": {},
   "source": [
    "**END 1.3(C)**"
   ]
  },
  {
   "cell_type": "markdown",
   "metadata": {},
   "source": [
    "## <font color='red'>Exercise 1.4(C)</font> (4 points)\n",
    "Now, you will use the functions above to fit a third degree polynomial to the provided data `(x_ex1_train,y_ex1_train)`, and plot your fitted results and the training data on the same graph. Please remember to use legend to identify what each curve is."
   ]
  },
  {
   "cell_type": "code",
   "execution_count": 9,
   "metadata": {
    "scrolled": false
   },
   "outputs": [
    {
     "data": {
      "text/plain": [
       "<matplotlib.legend.Legend at 0x1e0ac6bb370>"
      ]
     },
     "execution_count": 9,
     "metadata": {},
     "output_type": "execute_result"
    },
    {
     "data": {
      "image/png": "[encoded data removed]",
      "text/plain": [
       "<Figure size 432x288 with 1 Axes>"
      ]
     },
     "metadata": {
      "needs_background": "light"
     },
     "output_type": "display_data"
    }
   ],
   "source": [
    "#Fit a 3rd degree polynomial to data and visualize the result of your fit\n",
    "\n",
    "##your code starts here\n",
    "train_coeffs = fit_func(x_ex1_train,y_ex1_train,3)\n",
    "x_vis = np.linspace(min(x_ex1_train),max(x_ex1_train))\n",
    "y_vis = any_degree_polynomial(x_vis,train_coeffs)\n",
    "plt.scatter(x_ex1_train,y_ex1_train)\n",
    "plt.plot(x_vis,y_vis,color = 'r')\n",
    "plt.legend(['Fitted Line','Training Data'])\n",
    "##your code starts here"
   ]
  },
  {
   "cell_type": "markdown",
   "metadata": {},
   "source": [
    "**END 1.4(C)**"
   ]
  },
  {
   "cell_type": "markdown",
   "metadata": {},
   "source": [
    "In the next two exercises, we are going to evaluate how polynomials of different degrees perform in the validation data when fitted to the training data. "
   ]
  },
  {
   "cell_type": "markdown",
   "metadata": {},
   "source": [
    "## <font color='red'>Exercise 1.5(C) </font> (2 points)\n",
    "First, we are going to define a function that returns the metric used to evaluate the results. For this exercise, we use the mean squared error function, which is defined as $\\frac{1}{N}\\sum{\\left( \\hat{y} - y \\right)^{2}}$. Your task is to implement a function, named `mse`, that takes two numpy arrays (`predicted_values` and `targets`) as input and returns the mean squared error between them."
   ]
  },
  {
   "cell_type": "code",
   "execution_count": 10,
   "metadata": {},
   "outputs": [],
   "source": [
    "def mse(predicted_values, targets):\n",
    "    ##your code starts here\n",
    "    N = len(targets)\n",
    "    sumDiff = 0\n",
    "    for val in range(0,N):\n",
    "        diff2 = (predicted_values[val]-targets[val])**2\n",
    "        sumDiff = sumDiff+diff2\n",
    "    error = sumDiff/N\n",
    "    return error    \n",
    "    ##your code ends here"
   ]
  },
  {
   "cell_type": "code",
   "execution_count": 11,
   "metadata": {},
   "outputs": [
    {
     "name": "stdout",
     "output_type": "stream",
     "text": [
      "Your error function seems to be returning the expected values\n"
     ]
    }
   ],
   "source": [
    "#test your function to make sure it is doing what is expected\n",
    "validate_ex15(mse, y_ex1_val[:20,:],y_ex1_train)"
   ]
  },
  {
   "cell_type": "markdown",
   "metadata": {},
   "source": [
    "**END 1.5(C)**"
   ]
  },
  {
   "cell_type": "markdown",
   "metadata": {},
   "source": [
    "## <font color='magneta'>Exercise 1.6(T)</font> (3 points)\n",
    "Maximum likelihood (ML) principle is a common way to derive a good estimator for different models. For example, we can use ML to derive the estimation of the coefficients of polynomial fitting functions. If using ML, what assumptions do we need to make in order to obtain the same estimated coefficients as using the mean squared error criterion in Exercise 1.5 above?"
   ]
  },
  {
   "cell_type": "markdown",
   "metadata": {},
   "source": [
    "**Write your answers here:**\n",
    "We have to make the assumption that the data points are distributed normally around their mean."
   ]
  },
  {
   "cell_type": "markdown",
   "metadata": {},
   "source": [
    "**END 1.6(T)**"
   ]
  },
  {
   "cell_type": "markdown",
   "metadata": {},
   "source": [
    "## <font color='blue'>Exercise 1.7(A)</font> (10 points)\n",
    "Now, we are going to treat the degree of the fitting polynomial as a hyperparameter. In this section, you will:\n",
    "1) Fit the training data, `x_ex1_train`, and validation data, `x_ex1_val`, using polynomials of degree 1 to 10. Then, plot the polynomial degrees as a function of mean squared error for both training data and validation data on the same graph.\n",
    "\n",
    "2) Write a short analysis of the results presented in your plot, stating which degrees are overfitting and which are underfitting, and why."
   ]
  },
  {
   "cell_type": "code",
   "execution_count": 12,
   "metadata": {
    "scrolled": false
   },
   "outputs": [
    {
     "data": {
      "text/plain": [
       "Text(0, 0.5, 'MSE')"
      ]
     },
     "execution_count": 12,
     "metadata": {},
     "output_type": "execute_result"
    },
    {
     "data": {
      "image/png": "[encoded data removed]",
      "text/plain": [
       "<Figure size 432x288 with 1 Axes>"
      ]
     },
     "metadata": {
      "needs_background": "light"
     },
     "output_type": "display_data"
    }
   ],
   "source": [
    "##your code starts here\n",
    "ytrain = np.zeros([len(x_ex1_train),1])\n",
    "yval = np.zeros([len(x_ex1_val),1])\n",
    "mseTrain = np.zeros([9,1])\n",
    "mseVal = np.zeros([9,1])\n",
    "for d in range(1,10):\n",
    "    fit_coeff = fit_func(x_ex1_train,y_ex1_train,d)\n",
    "    ytrain = np.append(ytrain,any_degree_polynomial(x_ex1_train,fit_coeff),1)\n",
    "    yval = np.append(yval,any_degree_polynomial(x_ex1_val,fit_coeff),1)\n",
    "    mseTrain[d-1] = mse(ytrain[:,d],y_ex1_train)\n",
    "    mseVal[d-1] = mse(yval[:,d],y_ex1_val)\n",
    "degrees = range(1,10)\n",
    "plt.plot(degrees,mseTrain,color = 'b')\n",
    "plt.plot(degrees,mseVal,color = 'g')\n",
    "plt.legend([\"Training MSE\",\"Validation MSE\"])\n",
    "plt.xlabel(\"degree\")\n",
    "plt.ylabel(\"MSE\")\n",
    "##your code ends here"
   ]
  },
  {
   "cell_type": "markdown",
   "metadata": {},
   "source": [
    "**Write your analysis of the results here:** (Double click on this cell to enter text)\n",
    "\n",
    "The MSE decreases as degree increases for the data that the fit was trained on, which makes sense as the fit is meant to minimize MSE for a given dataset and degree of polynomial. When compared to the MSE of these fits to a validation data set however, it is seen that the MSE decreases until degree = 3, at which point it begins to increase for each subsequent increase in degree. This initial decrease in MSE for the validation dataset along with the very high MSE for the training set at these degrees, indicate that polynomial fits of degrees 1 and 2 are underfit. The continued decrease in MSE for the training set combined with the increase in MSE for the valdiation set indicate that polynomial fits higher than the 3rd degree are overtrained."
   ]
  },
  {
   "cell_type": "markdown",
   "metadata": {},
   "source": [
    "**END 1.7(A)**"
   ]
  },
  {
   "cell_type": "markdown",
   "metadata": {},
   "source": [
    "# Exercise 2 - Defining and training fully connected networks **(Total of 25 points)**\n",
    "\n",
    "In this exercise, we are going to define functions to train a fully connected network with one hidden layer. First, we set a function to initialize the learnable parameters of the network. They are going to be arrays stored in a python dictionary in which the keys of the dictionary represent the name of the parameters of the network. The parameters are called 'weights_i' and 'bias_i' where i is the layer where the parameter is used. For the linear layer forward pass, we use the equation/notation $XW+b$, $X$ being a matrix with batch size as first dimension."
   ]
  },
  {
   "cell_type": "code",
   "execution_count": 13,
   "metadata": {},
   "outputs": [],
   "source": [
    "def initialize_parameters_ex2(n_inputs, n_hidden_nodes, n_outputs):\n",
    "    np.random.seed(1)\n",
    "    #initialize weights centered in 0\n",
    "    weights_1 = np.random.normal(0,0.5,[n_inputs,n_hidden_nodes])\n",
    "    # initialize bias with a small positive value to reduce amount of dead neurons\n",
    "    bias_1 = np.random.normal(0.1,0,[n_hidden_nodes])\n",
    "    #initialize weights centered in 0\n",
    "    weights_2 = np.random.normal(0,0.5,[n_hidden_nodes,n_outputs])\n",
    "    # initialize bias with a small positive value to reduce amount of dead neurons\n",
    "    bias_2 = np.random.normal(0.1,0,[n_outputs])\n",
    "    return {'weights_1':weights_1, 'weights_2':weights_2, 'bias_1':bias_1, 'bias_2':bias_2}"
   ]
  },
  {
   "cell_type": "markdown",
   "metadata": {},
   "source": [
    "## <font color='magneta'>Exercise 2.1(T)</font> (1 points) \n",
    "Calculate the number of parameters of a network initialized with initialize_parameters_ex2 function in Exercise 2.1. Your answer needs to be expressed as a function of n_inputs, n_hidden_nodes and n_outputs."
   ]
  },
  {
   "cell_type": "markdown",
   "metadata": {},
   "source": [
    "**Write your answer here:** (Double click on this cell to enter text)\n",
    "\n",
    "num_Weights1 = n_inputs x n_hidden_nodes\n",
    "\n",
    "num_Bias1 = n_hidden_nodes\n",
    "\n",
    "num_Weights2 = n_hidden_nodes x n_outputs\n",
    "\n",
    "num_Bias2 = n_outputs\n",
    "\n",
    "num_parameters = (n_inputs x n_hidden_nodes)+(n_hidden_nodes)+(n_hidden_nodes x n_outputs)+(n_outputs)\n",
    "\n",
    "\n",
    "num_parameters = n_hidden_nodes(n_inputs+1)+n_outputs(n_hidden_nodes+1)\n"
   ]
  },
  {
   "cell_type": "markdown",
   "metadata": {},
   "source": [
    "**END 2.1(T)**"
   ]
  },
  {
   "cell_type": "markdown",
   "metadata": {},
   "source": [
    "## <font color='red'>Exercise 2.2(C)</font> (4 points)\n",
    "Complete the function, `two_layer_network_forward`, below to define a forward pass of a two-layer fully connected network with ReLU as the activation function of the first layer."
   ]
  },
  {
   "cell_type": "code",
   "execution_count": 14,
   "metadata": {},
   "outputs": [],
   "source": [
    "def two_layer_network_forward(inputs, parameters, return_intermediary_results = False):\n",
    "    \n",
    "    ##your code starts here\n",
    "    w1 = np.vstack([parameters['weights_1'],parameters['bias_1']])\n",
    "    inputsBias = np.hstack([inputs,np.ones([len(inputs),1])])\n",
    "#     out_1 = inputs@parameters['weights_1']\n",
    "    out_1 = inputsBias@w1\n",
    "    out_1_relu = out_1.copy()\n",
    "    out_1_relu[out_1_relu<0] = 0\n",
    "    w2 = np.vstack([parameters['weights_2'],parameters['bias_2']])\n",
    "    out_2 = np.hstack([out_1_relu,np.ones([len(out_1_relu),1])])@w2\n",
    "    ##your code ends here\n",
    "    \n",
    "    #return_intermediary_results should only be True if you are going to use this forward pass\n",
    "    # to calculate gradients for the network parameters\n",
    "    if return_intermediary_results:\n",
    "        #if you are doing the forward pass to calculate backward pass afterwards, you are going to need all intermediary results\n",
    "        to_return = {'out_1': out_1, 'out_1_relu': out_1_relu, 'out_2': out_2}\n",
    "    else:\n",
    "        #if you are doing the forward pass just to get the output of the network, you only need the final result\n",
    "        to_return = out_2\n",
    "    return to_return"
   ]
  },
  {
   "cell_type": "code",
   "execution_count": 15,
   "metadata": {},
   "outputs": [
    {
     "name": "stdout",
     "output_type": "stream",
     "text": [
      "Your forward function seems to be returning the expected values\n"
     ]
    }
   ],
   "source": [
    "#test your function to make sure it is doing what is expected\n",
    "validate_ex22(two_layer_network_forward, initialize_parameters_ex2, x_ex1_train)"
   ]
  },
  {
   "cell_type": "markdown",
   "metadata": {},
   "source": [
    "**END 2.2(C)**"
   ]
  },
  {
   "cell_type": "markdown",
   "metadata": {},
   "source": [
    "## <font color='magneta'>Exercise 2.3(T)</font> (7 points) \n",
    "In this section, we will derive the derivaties of the parameters (in matrix form) of a feed-forward network using backpropagation algorithm. Given the two-layer network specified in Exercise 2.2 above, the network can be defined with the following operations where $\\mathbf{x}, \\mathbf{\\hat{y}}$ are the input and output of the network, respectively:\n",
    "\n",
    "$\\mathbf{z} = \\mathbf{x}\\mathbf{w}_1 + \\mathbf{b}_1$\n",
    "\n",
    "$\\mathbf{h} = relu(\\mathbf{z})$\n",
    "\n",
    "$\\mathbf{\\hat{y}} = \\mathbf{h}\\mathbf{w}_2 + \\mathbf{b}_2$\n",
    "\n",
    "Please derive the derivatives of the parameters in the network if the mean squared error is used as the cost function, i.e., $\\frac{\\partial L}{\\partial\\mathbf{W_1}}$, $\\frac{\\partial L}{\\partial\\mathbf{b_1}}$, $\\frac{\\partial L}{\\partial\\mathbf{W_2}}$, and $\\frac{\\partial L}{\\partial\\mathbf{b_2}}$. Note: You need to show a step-by-step of how you obtain each derivatives to receive full credit.\n"
   ]
  },
  {
   "cell_type": "markdown",
   "metadata": {},
   "source": [
    "**Write your answers here:** (Double click on this cell to enter text)\n",
    "\n",
    "$\\mathbf{\\hat{y}} = \\mathbf{z}*\\mathbf{W_2};   \\mathbf{L} = (\\mathbf{\\hat{y}}-\\mathbf{y})^2$\n",
    "\n",
    "$\\frac{\\partial\\mathbf{L}}{\\partial\\mathbf{W_2}} = \\mathbf{z^T}*2(\\mathbf{\\hat{y}}-\\mathbf{y})$\n",
    "\n",
    "\n",
    "$\\frac{\\partial\\mathbf{L}}{\\partial\\mathbf{W_1}} = \\mathbf{X^T}*\\frac{\\partial\\mathbf{L}}{\\partial\\mathbf{z}}$;\n",
    "$\\frac{\\partial\\mathbf{L}}{\\partial\\mathbf{z}} = \\frac{\\partial\\mathbf{L}}{\\partial\\mathbf{h}}*\\frac{\\partial\\mathbf{h}}{\\partial\\mathbf{z}} = \\frac{\\partial\\mathbf{L}}{\\partial\\mathbf{z}} \\rightarrow \\frac{\\partial\\mathbf{L}}{\\partial\\mathbf{h}_{ij}} \\{ \\mathbf{z}_{ij} > 0$;\n",
    "$\\frac{\\partial\\mathbf{L}}{\\partial\\mathbf{h}} = \\frac{\\partial\\mathbf{L}}{\\partial\\mathbf{\\hat{y}}}*\\mathbf{W_2^T};\\frac{\\partial\\mathbf{L}}{\\partial\\mathbf{\\hat{y}}} = 2(\\mathbf{\\hat{y}}-\\mathbf{y})$   \n",
    "$\\rightarrow \\frac{\\partial\\mathbf{L}}{\\partial\\mathbf{W_1}} = \\mathbf{X^T}*2(\\mathbf{\\hat{y}}-\\mathbf{y})*\\mathbf{W_2^T}$\n",
    "\n",
    "\n",
    "$\\frac{\\partial\\mathbf{L}}{\\partial\\mathbf{b_1}} = \\frac{\\partial\\mathbf{z}}{\\partial\\mathbf{b_1}}*\\frac{\\partial\\mathbf{h}}{\\partial\\mathbf{z}}*\\frac{\\partial\\mathbf{\\hat{y}}}{\\partial\\mathbf{h}}*\\frac{\\partial\\mathbf{L}}{\\partial\\mathbf{\\hat{y}}} \\rightarrow \\mathbf{W_2^T}*2(\\mathbf{\\hat{y}}-\\mathbf{y})$\n",
    "\n",
    "$\\frac{\\partial\\mathbf{L}}{\\partial\\mathbf{b_2}} = \\frac{\\partial\\mathbf{L}}{\\partial\\mathbf{\\hat{y}}}*\\frac{\\partial\\mathbf{\\hat{y}}}{\\partial\\mathbf{b_2}} \\rightarrow 2(\\mathbf{\\hat{y}}-\\mathbf{y})$"
   ]
  },
  {
   "cell_type": "markdown",
   "metadata": {},
   "source": [
    "**END 2.3(T)**"
   ]
  },
  {
   "cell_type": "markdown",
   "metadata": {},
   "source": [
    "## <font color='red'>Exercise 2.4(C)</font> (8 points) \n",
    "Now, you will implement two functions `mse_loss_backward` and `two_layer_network_backward` for the derivatives of the cost function and parameters of the network that you derive in Exercise 2.3."
   ]
  },
  {
   "cell_type": "code",
   "execution_count": 16,
   "metadata": {},
   "outputs": [],
   "source": [
    "def mse_loss_backward(predicted, gt):\n",
    "    ##your code starts here\n",
    "    de = 2*(predicted-gt)/len(predicted)\n",
    "    derivative_of_mse_loss_with_respect_to_predicted = de\n",
    "    ##your code ends here\n",
    "    return derivative_of_mse_loss_with_respect_to_predicted\n",
    "\n",
    "def two_layer_network_backward(inputs, parameters, gt, loss_backward):\n",
    "    \n",
    "    intermediary_results_in_forward = two_layer_network_forward(inputs, parameters, return_intermediary_results = True)\n",
    "\n",
    "    out_1 = intermediary_results_in_forward['out_1'] \n",
    "    out_1_relu = intermediary_results_in_forward['out_1_relu'] \n",
    "    out_2 = intermediary_results_in_forward['out_2'] \n",
    "    \n",
    "    derivative_of_loss_with_respect_to_out_2 = loss_backward(out_2, gt) \n",
    "    \n",
    "    ##your code starts here\n",
    "    backRelu = derivative_of_loss_with_respect_to_out_2@parameters['weights_2'].T\n",
    "    backRelu[out_1 <= 0] = 0\n",
    "    derivative_of_loss_with_respect_to_bias_2 = np.sum(derivative_of_loss_with_respect_to_out_2, axis = 0)\n",
    "    derivative_of_loss_with_respect_to_bias_1 = np.sum(backRelu,axis = 0)\n",
    "    derivative_of_loss_with_respect_to_weights_1 = inputs.T@backRelu\n",
    "    derivative_of_loss_with_respect_to_weights_2 = out_1_relu.T@derivative_of_loss_with_respect_to_out_2\n",
    "    ##your code ends here\n",
    "    \n",
    "    return {\n",
    "            'weights_1': derivative_of_loss_with_respect_to_weights_1,\n",
    "            'bias_1': derivative_of_loss_with_respect_to_bias_1, \n",
    "            'weights_2':derivative_of_loss_with_respect_to_weights_2 , \n",
    "            'bias_2':derivative_of_loss_with_respect_to_bias_2,\n",
    "            'shape back': np.shape(derivative_of_loss_with_respect_to_bias_1),\n",
    "            'shape mseback':np.shape(derivative_of_loss_with_respect_to_weights_1)\n",
    "            }\n",
    "\n",
    "def two_layer_network_mse_backward(inputs, parameters, gt):\n",
    "    return two_layer_network_backward(inputs, parameters, gt, mse_loss_backward)\n"
   ]
  },
  {
   "cell_type": "code",
   "execution_count": 17,
   "metadata": {},
   "outputs": [
    {
     "name": "stdout",
     "output_type": "stream",
     "text": [
      "Analytical and numerical gradients are the same for all parameters\n"
     ]
    }
   ],
   "source": [
    "#test your function to make sure it is doing what is expected\n",
    "test_gradient(two_layer_network_forward, two_layer_network_mse_backward, mse, x_ex1_train[0:20,:], y_ex1_train[0:20,:], initialize_parameters_ex2(1, 10, 1) )"
   ]
  },
  {
   "cell_type": "markdown",
   "metadata": {},
   "source": [
    "**END 2.4(C)**"
   ]
  },
  {
   "cell_type": "markdown",
   "metadata": {},
   "source": [
    "## <font color='red'>Exercise 2.5(C)</font>  (5 points)\n",
    "In this section, you are going to implement the update rule for a batch of training. Complete the function,`run_batch_sgd`, below that calculates the gradients and then updates the parameters using the vanilla stochastic gradient descent update rule. Then, you will use this function for the training process defined in the next cell and plot the results."
   ]
  },
  {
   "cell_type": "code",
   "execution_count": 18,
   "metadata": {},
   "outputs": [],
   "source": [
    "def run_batch_sgd(backward_function, parameters, learning_rate, inputs, targets):\n",
    "    #calculate gradients and update parameters using sgd update rule\n",
    "    ##your code starts here\n",
    "    bckwd_grad = backward_function(inputs,parameters,targets)\n",
    "    updated_parameters = parameters.copy()\n",
    "    for param_name in parameters.keys():\n",
    "        updated_parameters[param_name] = parameters[param_name]-learning_rate*bckwd_grad[param_name]\n",
    "    ##your code ends here\n",
    "    return updated_parameters"
   ]
  },
  {
   "cell_type": "code",
   "execution_count": 19,
   "metadata": {
    "scrolled": false
   },
   "outputs": [
    {
     "data": {
      "text/plain": [
       "[<matplotlib.lines.Line2D at 0x1e0acc9e6a0>]"
      ]
     },
     "execution_count": 19,
     "metadata": {},
     "output_type": "execute_result"
    },
    {
     "data": {
      "image/png": "[encoded data removed]",
      "text/plain": [
       "<Figure size 432x288 with 1 Axes>"
      ]
     },
     "metadata": {
      "needs_background": "light"
     },
     "output_type": "display_data"
    }
   ],
   "source": [
    "n_hidden_nodes = 50\n",
    "parameters_two_layer_regression = initialize_parameters_ex2(1, n_hidden_nodes, 1)\n",
    "\n",
    "learning_rate = 0.001\n",
    "batch_size = 1\n",
    "n_epochs = 1000\n",
    "\n",
    "for epoch in range(n_epochs):\n",
    "    shuffled_indexes = (np.arange(x_ex1_train.shape[0]))\n",
    "    np.random.shuffle(shuffled_indexes)\n",
    "    shuffled_indexes = np.array_split(shuffled_indexes,x_ex1_train.shape[0]//batch_size )\n",
    "    for batch_i in range(len(shuffled_indexes)):\n",
    "        batch = shuffled_indexes[batch_i]\n",
    "        input_this_batch = x_ex1_train[batch,:]\n",
    "        gt_this_batch =  y_ex1_train[batch,:]\n",
    "        #use you function run_batch_sgd to update the parameters\n",
    "        ##your code starts here\n",
    "        if epoch == 0:\n",
    "            updated_params = run_batch_sgd(two_layer_network_mse_backward,parameters_two_layer_regression,learning_rate,input_this_batch,gt_this_batch)\n",
    "        updated_params = run_batch_sgd(two_layer_network_mse_backward,updated_params,learning_rate,input_this_batch,gt_this_batch)\n",
    "        ##your code ends here\n",
    "#plot the results of training\n",
    "##your code starts here\n",
    "x_in = np.linspace(min(x_ex1_train),max(x_ex1_train))\n",
    "y_out = two_layer_network_forward(x_in,updated_params,return_intermediary_results = False)\n",
    "plt.scatter(x_ex1_train,y_ex1_train)\n",
    "plt.plot(x_in,y_out,color = 'r')\n",
    "##your code ends here"
   ]
  },
  {
   "cell_type": "markdown",
   "metadata": {},
   "source": [
    "**END 2.5(C)**"
   ]
  },
  {
   "cell_type": "markdown",
   "metadata": {},
   "source": [
    "# Exercise 3 - Classification task using a medical dataset with cross-entropy and softmax (Total of 22 points)\n",
    "\n",
    "We are going to apply what we just defined in Exercise 2 to a real world application. The problem, that we want to solve here, is to predict if a patient had a seizure from a electroencephalogram (EEG) signal. We will use a dataset (https://archive.ics.uci.edu/ml/datasets/Epileptic+Seizure+Recognition) that contains preprocessed 1-D EEG signals and corresponding labels, i.e., if the patients had seizure or not. Your task will be to implement a feed-forward network using functions defined in Exercise 2 to solve this problem and analyze the effect of hyperparameters having on the network's performance. Before we can begin the implementation of the network, we need to load and preprocess the data."
   ]
  },
  {
   "cell_type": "code",
   "execution_count": 20,
   "metadata": {},
   "outputs": [],
   "source": [
    "#read the csv file. Note: Please make sure the data_ex3.csv file is in the same directory\n",
    "data_ex3 = pandas.read_csv('./data_ex3.csv')\n",
    "\n",
    "#modify labels since we are going to do a binary classification, seizure or no seizure, \n",
    "# and presence of seizure is represented by label 1\n",
    "data_ex3.y = data_ex3.y.map({1:1,2:0,3:0,4:0,5:0})\n",
    "\n",
    "#visualizing the current table of the loaded dataset to see how it is organized\n",
    "data_ex3[:5]\n",
    "\n",
    "# preprocess the data you just loaded\n",
    "train_data_ex3, val_data_ex3, test_data_ex3, train_labels_ex3, val_labels_ex3, test_labels_ex3 =  preprocess_medical_data(data_ex3)"
   ]
  },
  {
   "cell_type": "code",
   "execution_count": 21,
   "metadata": {
    "scrolled": false
   },
   "outputs": [
    {
     "name": "stdout",
     "output_type": "stream",
     "text": [
      "train_data_ex3:\n",
      " [[ 0.1065911   0.09935479  0.09289118 ...  0.04474852  0.07432342\n",
      "   0.10319802]\n",
      " [ 0.55446846  0.72344248  0.87263086 ...  2.02829977  2.45150835\n",
      "   2.74325531]\n",
      " [ 0.3868953   0.39304312  0.34864579 ... -0.0452765  -0.0283758\n",
      "  -0.01067506]\n",
      " ...\n",
      " [ 0.0669829   0.06264375  0.0461068  ... -0.15630735 -0.09482824\n",
      "  -0.02865502]\n",
      " [-0.10973062 -0.15456323 -0.20964782 ...  0.0777577  -0.01629354\n",
      "  -0.07660157]\n",
      " [-0.22855522 -0.22492606 -0.21276678 ... -0.41737991 -0.40292591\n",
      "  -0.40024083]]\n",
      "train_labels_ex3:\n",
      " [[1. 0.]\n",
      " [0. 1.]\n",
      " [0. 1.]\n",
      " ...\n",
      " [1. 0.]\n",
      " [1. 0.]\n",
      " [1. 0.]]\n",
      "train_data_ex3.shape: (6900, 178)\n",
      "train_labels_ex3.shape: (6900, 2)\n",
      "val_data_ex3.shape: (1725, 178)\n",
      "val_labels_ex3.shape: (1725, 2)\n",
      "test_data_ex3.shape: (2875, 178)\n",
      "test_labels_ex3.shape: (2875, 2)\n",
      "Percentage of examples containing seizures: 20.159420289855074%\n"
     ]
    }
   ],
   "source": [
    "#sanity check of the result of normalization, one-hot encoding and shapes of the data vectors\n",
    "print('train_data_ex3:\\n ' + str(train_data_ex3))\n",
    "print('train_labels_ex3:\\n ' + str(train_labels_ex3))\n",
    "print('train_data_ex3.shape: ' + str(train_data_ex3.shape))\n",
    "print('train_labels_ex3.shape: ' + str(train_labels_ex3.shape))\n",
    "print('val_data_ex3.shape: ' + str(val_data_ex3.shape))\n",
    "print('val_labels_ex3.shape: ' + str(val_labels_ex3.shape))\n",
    "print('test_data_ex3.shape: ' + str(test_data_ex3.shape))\n",
    "print('test_labels_ex3.shape: ' + str(test_labels_ex3.shape))\n",
    "\n",
    "#checking how many of the labels are seizure labels\n",
    "#the dataset is unbalanced, but you should use it just like that\n",
    "print('Percentage of examples containing seizures: ' + str(np.sum(train_labels_ex3[:,1])/float(len(train_labels_ex3))*100) + '%')\n"
   ]
  },
  {
   "cell_type": "markdown",
   "metadata": {},
   "source": [
    "Next, we are going to define a few more functions."
   ]
  },
  {
   "cell_type": "code",
   "execution_count": 22,
   "metadata": {},
   "outputs": [],
   "source": [
    "#a softmax calculation with numerical stability tricks\n",
    "def softmax(logits, axis):\n",
    "    # subtracting the maximum logit from all logits for each example and prevents overflow \n",
    "    # of the exponential function of the logits and does not change results of the softmax\n",
    "    # because of properties of division of exponentials\n",
    "    stabilizing_logits = logits - np.expand_dims(np.max(logits, axis = axis), axis = axis)\n",
    "    \n",
    "    # clipping all logits to a minimum of -10 prevents underflow of the exponentials and \n",
    "    # only changes the result of the softmax minimally, since we know that one logit has value 0\n",
    "    # and exp^0>>exp(-10)\n",
    "    stabilizing_logits = np.clip(stabilizing_logits, -10, None)\n",
    "    \n",
    "    #using the softmax classic equation, but with the modified logits to prevent numerical errors\n",
    "    return np.exp(stabilizing_logits)/np.expand_dims(np.sum(np.exp(stabilizing_logits), axis = axis), axis = axis)\n",
    "\n",
    "# a forward function combined the two-layer network and the softmax\n",
    "def two_layer_network_softmax_forward(inputs, parameters):\n",
    "    logits = two_layer_network_forward(inputs, parameters)\n",
    "    return softmax(logits, axis = 1)\n",
    "\n",
    "# a forward function combined the two-layer network and the softmax\n",
    "def softmax_plus_ce_loss_backward(predicted, gt):\n",
    "    #the derivative of the output of softmax function followed by a cross-entropy loss\n",
    "    # with respect to the input is a beautifully simple equation equals to the softmax\n",
    "    # of the inputs minus the one-hot encoded groundtruth\n",
    "    return (softmax(predicted, axis = 1) - gt)/predicted.shape[0]\n",
    "\n",
    "#the calculation of the gradient for the classification network\n",
    "def two_layer_network_softmax_ce_backward(inputs, parameters, gt):\n",
    "    return two_layer_network_backward(inputs, parameters, gt, softmax_plus_ce_loss_backward)\n",
    "\n",
    "# a function to get how many logits predicted the right class when compared to gt\n",
    "def count_correct_predictions(logits, gt):\n",
    "    predicted_labels = one_hot(np.argmax(logits, axis = 1), logits.shape[1])\n",
    "    return np.sum(np.logical_and(predicted_labels,gt))"
   ]
  },
  {
   "cell_type": "markdown",
   "metadata": {},
   "source": [
    "## <font color='red'>Exercise 3.1(C)</font> (3 points)\n",
    "Before putting together the training process, we need to define the loss function. Here, we are going to implement a cross-entropy loss between the predicted output and one-hot encoded target."
   ]
  },
  {
   "cell_type": "code",
   "execution_count": 23,
   "metadata": {},
   "outputs": [],
   "source": [
    "def ce_loss(predicted_output, target):\n",
    "    ##your code starts here\n",
    "    ce = (target*np.log(predicted_output))\n",
    "    ce_total = -np.sum(ce)\n",
    "    return ce_total/np.shape(predicted_output)[0]\n",
    "    ##your code ends here"
   ]
  },
  {
   "cell_type": "code",
   "execution_count": 24,
   "metadata": {},
   "outputs": [
    {
     "name": "stdout",
     "output_type": "stream",
     "text": [
      "Your loss function seems to be returning the expected values\n",
      "Analytical and numerical gradients are the same for all parameters\n"
     ]
    }
   ],
   "source": [
    "#test your function to make sure it is doing what is expected\n",
    "validate_ex31(ce_loss,softmax, two_layer_network_softmax_forward, two_layer_network_softmax_ce_backward,\\\n",
    "             train_data_ex3[0:10,:], train_labels_ex3[0:10,:], initialize_parameters_ex2(178, 10, 2))"
   ]
  },
  {
   "cell_type": "markdown",
   "metadata": {},
   "source": [
    "**END 3.1(C)**"
   ]
  },
  {
   "cell_type": "markdown",
   "metadata": {},
   "source": [
    "## <font color='blue'>Exercise 3.2(A)</font> (16 points)\n",
    "In this section, you will first put together the training process of a two-layer neural network. You should be able to get a validation accuracy higher than 96% with the provided learning rate, batch size, and number of epochs for this dataset. Then, you will analyze how the accuracy changes as a function of the number of hidden nodes.\n",
    "\n",
    "Hints:\n",
    "- Question 2.4 has codes that may be useful here. \n",
    "- In addition to the codes from question 2.4, you will need to loop over different numbers of hidden nodes to train different models.\n",
    "- Write the inference loops to get the training and the validation accuracy of your model. \n",
    "- For the accuracy calculation, you may find the provided `count_correct_predictions` function useful."
   ]
  },
  {
   "cell_type": "code",
   "execution_count": 92,
   "metadata": {
    "scrolled": false
   },
   "outputs": [
    {
     "name": "stdout",
     "output_type": "stream",
     "text": [
      "[0.96       0.95594203 0.96231884 0.96289855 0.96405797 0.95014493\n",
      " 0.95130435 0.94724638]\n",
      "125\n"
     ]
    },
    {
     "data": {
      "image/png": "[encoded data removed]",
      "text/plain": [
       "<Figure size 432x288 with 1 Axes>"
      ]
     },
     "metadata": {
      "needs_background": "light"
     },
     "output_type": "display_data"
    }
   ],
   "source": [
    "learning_rate = 0.01 \n",
    "batch_size = 50\n",
    "n_epochs = 100\n",
    "\n",
    "##your code starts here\n",
    "parameters_two_layer_classification_dic = {}\n",
    "n_hidden_nodes = [25,50,75,100,125,150,250,500]\n",
    "pred_accuracy = []\n",
    "for nodes in range(len(n_hidden_nodes)):\n",
    "    start_params = initialize_parameters_ex2(178,n_hidden_nodes[nodes],2)\n",
    "    for epoch in range(n_epochs):\n",
    "        shuffled_indexes = (np.arange(train_data_ex3.shape[0]))\n",
    "        np.random.shuffle(shuffled_indexes)\n",
    "        shuffled_indexes = np.array_split(shuffled_indexes,train_data_ex3.shape[0]//batch_size )\n",
    "        for batch_i in range(len(shuffled_indexes)):\n",
    "            batch = shuffled_indexes[batch_i]\n",
    "            input_this_batch = train_data_ex3[batch,:]\n",
    "            gt_this_batch =  train_labels_ex3[batch,:]\n",
    "            if epoch == 0:\n",
    "                updated_params = run_batch_sgd(two_layer_network_softmax_ce_backward,start_params,learning_rate,input_this_batch,gt_this_batch)\n",
    "            updated_params = run_batch_sgd(two_layer_network_softmax_ce_backward,updated_params,learning_rate,input_this_batch,gt_this_batch)\n",
    "    parameters_two_layer_classification_dic[n_hidden_nodes[nodes]] = updated_params\n",
    "    pred_labels = two_layer_network_softmax_forward(val_data_ex3,updated_params)\n",
    "    correct_pred = count_correct_predictions(pred_labels, val_labels_ex3)\n",
    "    pred_accuracy = np.append(pred_accuracy,correct_pred/np.shape(val_labels_ex3)[0])\n",
    "print(pred_accuracy)\n",
    "plt.plot(n_hidden_nodes,pred_accuracy)\n",
    "plt.xlabel(\"number of hidden nodes\")\n",
    "plt.ylabel(\"validation accuracy\")\n",
    "ind = np.argmax(pred_accuracy)\n",
    "print(n_hidden_nodes[ind])\n",
    "##your code ends here"
   ]
  },
  {
   "cell_type": "markdown",
   "metadata": {},
   "source": [
    "**Write your analysis here:** (Double click on this cell to enter text) \n",
    "\n",
    "Accuracy does not directly correlate with the number of hidden nodes. There is a range of nodes that results in roughly \"peak\" accuracy - seen at around 100-125 hidden nodes in this example. With a fewer number of nodes the accuracy is generally lower, as is the case with a higher number of nodes. This is only a general trend however as smaller changes in number of nodes result in unexpected changes to accuracy such as the decrease seen from 25 to 50. "
   ]
  },
  {
   "cell_type": "markdown",
   "metadata": {},
   "source": [
    "**END 3.2(A)**"
   ]
  },
  {
   "cell_type": "markdown",
   "metadata": {},
   "source": [
    "## <font color='red'>Exercise 3.3(C)</font> (3 points)\n",
    "Lastly, we will run the best model on the test set."
   ]
  },
  {
   "cell_type": "code",
   "execution_count": 78,
   "metadata": {},
   "outputs": [
    {
     "name": "stdout",
     "output_type": "stream",
     "text": [
      "Test accuracy = 96.8%\n"
     ]
    }
   ],
   "source": [
    "shuffled_indexes = (np.arange(test_data_ex3.shape[0]))\n",
    "shuffled_indexes = np.array_split(shuffled_indexes,test_data_ex3.shape[0]//batch_size )\n",
    "corrects = 0\n",
    "total = 0\n",
    "n_hidden_nodes = 100\n",
    "for batch_i in range(len(shuffled_indexes)):\n",
    "    batch = shuffled_indexes[batch_i]\n",
    "    corrects += count_correct_predictions(two_layer_network_forward(test_data_ex3[batch], parameters_two_layer_classification_dic[n_hidden_nodes]), test_labels_ex3[batch])\n",
    "    total += len(batch)\n",
    "print('Test accuracy = ' + str(corrects/float(total)*100) + '%')"
   ]
  },
  {
   "cell_type": "markdown",
   "metadata": {},
   "source": [
    "**END 3.3(C)**"
   ]
  },
  {
   "cell_type": "markdown",
   "metadata": {},
   "source": [
    "# Exercise 4 - MNIST and weight decay **(Total of 23 points)**\n",
    "\n",
    "In this exercise, we are going to extend the two-layer neural network to another dataset. We are going to use a flattened and reduced MNIST dataset to train the network using L2 regularization. First, we need to load and preprocess the data:"
   ]
  },
  {
   "cell_type": "code",
   "execution_count": 28,
   "metadata": {},
   "outputs": [
    {
     "name": "stdout",
     "output_type": "stream",
     "text": [
      "[0. 0. 0. 0. 1. 0. 0. 0. 0. 0.]\n",
      "(2000, 784)\n",
      "(2000, 10)\n"
     ]
    },
    {
     "data": {
      "image/png": "[encoded data removed]",
      "text/plain": [
       "<Figure size 432x288 with 1 Axes>"
      ]
     },
     "metadata": {
      "needs_background": "light"
     },
     "output_type": "display_data"
    }
   ],
   "source": [
    "x_ex4_train, x_ex4_val, x_ex4_test, y_ex4_train, y_ex4_val, y_ex4_test = load_and_preprocess_mnist()\n",
    "\n",
    "#sanity check to see that data is as it is supposed to be\n",
    "plt.imshow(x_ex4_train[1000,:].reshape(28,28), cmap = 'Greys')\n",
    "print(y_ex4_train[1000])\n",
    "print(np.shape(x_ex4_train))\n",
    "print(np.shape(y_ex4_train))"
   ]
  },
  {
   "cell_type": "markdown",
   "metadata": {},
   "source": [
    "## <font color='red'>Exercise 4.1(C)</font> (4 points)\n",
    "The $L_2$ penalty is defined as the sum of squares of every element of the penalized parameters. In this section, you will implement the gradients of different parameters in the network. We consider the $L_2$ penalty over all the weights parameters, and no penalty over the bias parameters."
   ]
  },
  {
   "cell_type": "code",
   "execution_count": 75,
   "metadata": {},
   "outputs": [],
   "source": [
    "def l2_regularization_backward(inputs, parameters, gt):\n",
    "    gradients = {}\n",
    "    for parameter_name in parameters.keys():\n",
    "        if 'weights' in parameter_name:\n",
    "            # complete the equation to calculate the l2 regularization loss gradient for weights\n",
    "            ##your code starts here\n",
    "            gradients[parameter_name] = 2*parameters[parameter_name]\n",
    "\n",
    "            ##your code ends here\n",
    "        elif 'bias' in parameter_name:\n",
    "            # complete the equation to calculate the l2 regularization loss gradient for bias.\n",
    "            # Remember, the L2 regularization loss for bias is 0.\n",
    "            ##your code starts here\n",
    "            gradients[parameter_name] = 0\n",
    "            ##your code ends here\n",
    "    return gradients\n",
    "\n",
    "def two_layer_network_ce_and_l2_regularization_backward(inputs, parameters, gt, regularization_multiplier):\n",
    "    gradients = {}\n",
    "    gradients1 = two_layer_network_softmax_ce_backward(inputs, parameters, gt)\n",
    "    gradients2 = l2_regularization_backward(inputs, parameters, gt)\n",
    "    for parameter_name in parameters:\n",
    "        gradients[parameter_name] = gradients1[parameter_name] + regularization_multiplier * gradients2[parameter_name]\n",
    "    return gradients"
   ]
  },
  {
   "cell_type": "markdown",
   "metadata": {},
   "source": [
    "**END 4.1(C)**"
   ]
  },
  {
   "cell_type": "markdown",
   "metadata": {},
   "source": [
    "## <font color='blue'>Exercise 4.2(A)</font> (16 points)\n",
    "In this section, you will analyze how the weight decay, $\\lambda$, of the $L_2$ regularization changes the final results for the MNIST dataset using a two-layer neural network with 200 neurons in the hidden layer. \n",
    "\n",
    "Notes:\n",
    "- You should play a bit with the learning rate, batch size and number of epochs.\n",
    "- You should be able to get more than 90% accuracy on the validation set"
   ]
  },
  {
   "cell_type": "code",
   "execution_count": 96,
   "metadata": {
    "scrolled": false
   },
   "outputs": [
    {
     "name": "stdout",
     "output_type": "stream",
     "text": [
      "[0.8522 0.888  0.9104 0.9104 0.9118 0.9106 0.905  0.8996 0.9012]\n",
      "0.004\n"
     ]
    },
    {
     "data": {
      "image/png": "[encoded data removed]",
      "text/plain": [
       "<Figure size 432x288 with 1 Axes>"
      ]
     },
     "metadata": {
      "needs_background": "light"
     },
     "output_type": "display_data"
    }
   ],
   "source": [
    "n_hidden_nodes = 200\n",
    "\n",
    "##your code starts here\n",
    "\n",
    "def run_batch_sgd_l2(backward_function, parameters, learning_rate, inputs, targets,reg_mult):\n",
    "    #calculate gradients and update parameters using sgd update rule\n",
    "    ##your code starts here\n",
    "    bckwd_grad = backward_function(inputs,parameters,targets,reg_mult)\n",
    "    updated_parameters = parameters.copy()\n",
    "    for param_name in parameters.keys():\n",
    "        updated_parameters[param_name] = parameters[param_name]-learning_rate*bckwd_grad[param_name]\n",
    "    ##your code ends here\n",
    "    return updated_parameters\n",
    "\n",
    "# parameters_two_layer_classification_ex4_dic = {}\n",
    "reg_mult = np.linspace(0,0.008,num = 9)\n",
    "learning_rate = 0.05\n",
    "n_epoch = 200\n",
    "batch_size = 25\n",
    "pred_accuracy_ex4 = []\n",
    "parameters_two_layer_classification_ex4_dic = {}\n",
    "trained_params = initialize_parameters_ex2(np.shape(x_ex4_train)[1],n_hidden_nodes,np.shape(y_ex4_train)[1])\n",
    "for k in range(len(reg_mult)):\n",
    "    for epoch in range(n_epochs):\n",
    "        shuffled_indexes = (np.arange(x_ex4_train.shape[0]))\n",
    "        np.random.shuffle(shuffled_indexes)\n",
    "        shuffled_indexes = np.array_split(shuffled_indexes,x_ex4_train.shape[0]//batch_size )\n",
    "        for batch_i in range(len(shuffled_indexes)):\n",
    "            batch = shuffled_indexes[batch_i]\n",
    "            input_this_batch = x_ex4_train[batch,:]\n",
    "            gt_this_batch =  y_ex4_train[batch,:]\n",
    "            trained_params = run_batch_sgd_l2(two_layer_network_ce_and_l2_regularization_backward,trained_params,learning_rate,input_this_batch,gt_this_batch,reg_mult[k])\n",
    "    parameters_two_layer_classification_ex4_dic[reg_mult[k]] = trained_params\n",
    "    pred_labels_ex4 = two_layer_network_softmax_forward(x_ex4_val,trained_params)\n",
    "    correct_pred_ex4 = count_correct_predictions(pred_labels_ex4, y_ex4_val)\n",
    "    pred_accuracy_ex4 = np.append(pred_accuracy_ex4,correct_pred_ex4/np.shape(y_ex4_val)[0])\n",
    "print(pred_accuracy_ex4)\n",
    "plt.plot(reg_mult,pred_accuracy_ex4)\n",
    "plt.xlabel(\"regularization multiplier\")\n",
    "plt.ylabel(\"accuracy\")\n",
    "ind = np.argmax(pred_accuracy_ex4)\n",
    "print(reg_mult[ind])\n",
    "##your code ends here"
   ]
  },
  {
   "cell_type": "markdown",
   "metadata": {},
   "source": [
    "**Write your analysis here:** (Double click on this cell to enter text)\n",
    "\n",
    "Starting from zero, increasing the regularization multiplier results in a more accurate prediction as it is limiting the amount of overfitting that can occur. This benefit stops at around 0.002, where the accuracy peaks. Subsequent increases to the regularization multiplier result in decreased accuracy - though this happens slowly - due the L2 regularization pushing the system towards underfitting.  "
   ]
  },
  {
   "cell_type": "markdown",
   "metadata": {},
   "source": [
    "**END 4.2(A)**"
   ]
  },
  {
   "cell_type": "markdown",
   "metadata": {},
   "source": [
    "## <font color='red'>Exercise 4.3(C)</font> (3 points)\n",
    "Finally, test your best model using the provided test set."
   ]
  },
  {
   "cell_type": "code",
   "execution_count": 98,
   "metadata": {},
   "outputs": [
    {
     "name": "stdout",
     "output_type": "stream",
     "text": [
      "Test accuracy = 91.47%\n"
     ]
    }
   ],
   "source": [
    "shuffled_indexes = (np.arange(x_ex4_test.shape[0]))\n",
    "shuffled_indexes = np.array_split(shuffled_indexes,x_ex4_test.shape[0]//batch_size )\n",
    "corrects = 0\n",
    "total = 0\n",
    "for batch_i in range(len(shuffled_indexes)):\n",
    "    batch = shuffled_indexes[batch_i]\n",
    "    corrects += count_correct_predictions(two_layer_network_forward(x_ex4_test[batch], parameters_two_layer_classification_ex4_dic[0.004]), y_ex4_test[batch])\n",
    "    total += len(batch)\n",
    "print('Test accuracy = ' + str(corrects/float(total)*100) + '%')"
   ]
  },
  {
   "cell_type": "markdown",
   "metadata": {},
   "source": [
    "**END 4.3(C)**"
   ]
  }
 ],
 "metadata": {
  "kernelspec": {
   "display_name": "Python 3",
   "language": "python",
   "name": "python3"
  },
  "language_info": {
   "codemirror_mode": {
    "name": "ipython",
    "version": 3
   },
   "file_extension": ".py",
   "mimetype": "text/x-python",
   "name": "python",
   "nbconvert_exporter": "python",
   "pygments_lexer": "ipython3",
   "version": "3.8.5"
  }
 },
 "nbformat": 4,
 "nbformat_minor": 2
}
